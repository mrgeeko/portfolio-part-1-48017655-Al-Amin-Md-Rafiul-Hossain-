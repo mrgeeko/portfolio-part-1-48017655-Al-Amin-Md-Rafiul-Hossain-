{
  "cells": [
    {
      "cell_type": "markdown",
      "metadata": {
        "id": "view-in-github",
        "colab_type": "text"
      },
      "source": [
        "<a href=\"https://colab.research.google.com/github/mrgeeko/portfolio-part-1-48017655-Al-Amin-Md-Rafiul-Hossain-/blob/main/portfolio_part_1_48017655(Al_Amin_Md_Rafiul_Hossain).ipynb\" target=\"_parent\"><img src=\"https://colab.research.google.com/assets/colab-badge.svg\" alt=\"Open In Colab\"/></a>"
      ]
    },
    {
      "cell_type": "markdown",
      "id": "skHfgkqlqndO",
      "metadata": {
        "id": "skHfgkqlqndO"
      },
      "source": [
        "## Analysis of a car sell record Dataset\n",
        "\n",
        "We have been provided with a car sell record dataset. In this dataset, we have thounds of car sell records.\n",
        "\n",
        "The structure of this dataset is represented in the header shown below.\n",
        "\n",
        "name\n",
        "year\n",
        "selling_price\n",
        "km_driven\n",
        "fuel\n",
        "seller_type\n",
        "transmission\n",
        "Owner\n",
        "\n",
        "| name | year | selling_price | km_driven| fuel | seller_type | transmission | Owner |\n",
        "\n",
        "    | ---- | ---- | ---- | ---- | ---- | ---- | ---- | ---- |   \n",
        "    \n",
        "#### Description of Fields\n",
        "\n",
        "* __name__ - detail car type of the sold car\n",
        "* __year__ - Year of the car when it was bought\n",
        "* __selling_price__ - Price at which the car is being sold\n",
        "* __km_driven__ - Number of Kilometres the car is driven\n",
        "* __fuel__ - Fuel type of car (petrol / diesel / CNG / LPG / electric)\n",
        "* __seller_type__ - Tells if a Seller is Individual or a Dealer\n",
        "* __transmission__ - Gear transmission of the car (Automatic/Manual)\n",
        "* __owner__ - Number of previous owners of the car.\n",
        "\n",
        "There are four questions to explore with the data as shown below.\n"
      ]
    },
    {
      "cell_type": "code",
      "execution_count": 3,
      "id": "zNTpU9ToS8QK",
      "metadata": {
        "id": "zNTpU9ToS8QK"
      },
      "outputs": [],
      "source": [
        "your_name = \"Al Amin Md Rafiul Hossain\"\n",
        "your_student_id = \"48017655\""
      ]
    },
    {
      "cell_type": "code",
      "execution_count": 7,
      "id": "giZ_rSg8ezK6",
      "metadata": {
        "colab": {
          "base_uri": "https://localhost:8080/"
        },
        "id": "giZ_rSg8ezK6",
        "outputId": "d5d3d747-7df2-4190-b351-04ed988d2d85"
      },
      "outputs": [
        {
          "output_type": "stream",
          "name": "stdout",
          "text": [
            "Mounted at /content/drive\n"
          ]
        }
      ],
      "source": [
        "# libraries you might need\n",
        "import pandas as pd\n",
        "import numpy as np\n",
        "import matplotlib.pyplot as plt\n",
        "import seaborn as sns\n",
        "from google.colab import drive\n",
        "drive.mount('/content/drive')\n",
        "%matplotlib inline\n",
        "\n",
        "# if you are using google colab with google drive, you could read files from google drive with the following codes\n",
        "# from google.colab import drive\n",
        "# drive.mount('/content/drive')"
      ]
    },
    {
      "cell_type": "markdown",
      "id": "-tb7B7VTqndQ",
      "metadata": {
        "id": "-tb7B7VTqndQ"
      },
      "source": [
        " ## Q1. Remove missing data\n",
        "\n",
        "Please remove the records that match ANY of the below two conditions in the csv file:\n",
        "\n",
        " * year is missing\n",
        " * fuel is 'none'\n",
        "\n",
        "__Display the DataFrame, counting number of Null values in each column, and print the length of the data__ before and after removing the missing data.  "
      ]
    },
    {
      "cell_type": "code",
      "source": [
        "# Display Dataframe\n",
        "file_path = '/content/drive/My Drive/car_sell.csv'  # Replace with your actual file path\n",
        "df = pd.read_csv(file_path)\n",
        "print(df.head(5))\n",
        "print('============================================')\n",
        "print(\"Number of rows\", df.shape[0])\n",
        "df"
      ],
      "metadata": {
        "colab": {
          "base_uri": "https://localhost:8080/",
          "height": 692
        },
        "id": "A3OZtdfbm8Ba",
        "outputId": "e1f99230-3a69-4ae1-ff95-011e2ac1e645"
      },
      "id": "A3OZtdfbm8Ba",
      "execution_count": 8,
      "outputs": [
        {
          "output_type": "stream",
          "name": "stdout",
          "text": [
            "   Unnamed: 0                      name    year  selling_price  km_driven  \\\n",
            "0           0             Maruti 800 AC  2007.0          60000      70000   \n",
            "1           1  Maruti Wagon R LXI Minor  2007.0         135000      50000   \n",
            "2           2      Hyundai Verna 1.6 SX  2012.0         600000     100000   \n",
            "3           3    Datsun RediGO T Option  2017.0         250000      46000   \n",
            "4           4     Honda Amaze VX i-DTEC  2014.0         450000     141000   \n",
            "\n",
            "     fuel seller_type transmission         owner  \n",
            "0  Petrol  Individual       Manual   First Owner  \n",
            "1  Petrol  Individual       Manual   First Owner  \n",
            "2  Diesel  Individual       Manual   First Owner  \n",
            "3  Petrol  Individual       Manual   First Owner  \n",
            "4  Diesel  Individual       Manual  Second Owner  \n",
            "============================================\n",
            "Number of rows 4340\n"
          ]
        },
        {
          "output_type": "execute_result",
          "data": {
            "text/plain": [
              "      Unnamed: 0                                 name    year  selling_price  \\\n",
              "0              0                        Maruti 800 AC  2007.0          60000   \n",
              "1              1             Maruti Wagon R LXI Minor  2007.0         135000   \n",
              "2              2                 Hyundai Verna 1.6 SX  2012.0         600000   \n",
              "3              3               Datsun RediGO T Option  2017.0         250000   \n",
              "4              4                Honda Amaze VX i-DTEC  2014.0         450000   \n",
              "...          ...                                  ...     ...            ...   \n",
              "4335        4335  Hyundai i20 Magna 1.4 CRDi (Diesel)  2014.0         409999   \n",
              "4336        4336           Hyundai i20 Magna 1.4 CRDi  2014.0         409999   \n",
              "4337        4337                  Maruti 800 AC BSIII  2009.0         110000   \n",
              "4338        4338     Hyundai Creta 1.6 CRDi SX Option  2016.0         865000   \n",
              "4339        4339                     Renault KWID RXT  2016.0         225000   \n",
              "\n",
              "      km_driven    fuel seller_type transmission         owner  \n",
              "0         70000  Petrol  Individual       Manual   First Owner  \n",
              "1         50000  Petrol  Individual       Manual   First Owner  \n",
              "2        100000  Diesel  Individual       Manual   First Owner  \n",
              "3         46000  Petrol  Individual       Manual   First Owner  \n",
              "4        141000  Diesel  Individual       Manual  Second Owner  \n",
              "...         ...     ...         ...          ...           ...  \n",
              "4335      80000  Diesel  Individual       Manual  Second Owner  \n",
              "4336      80000  Diesel  Individual       Manual  Second Owner  \n",
              "4337      83000  Petrol  Individual       Manual  Second Owner  \n",
              "4338      90000  Diesel  Individual       Manual   First Owner  \n",
              "4339      40000  Petrol  Individual       Manual   First Owner  \n",
              "\n",
              "[4340 rows x 9 columns]"
            ],
            "text/html": [
              "\n",
              "  <div id=\"df-f1d4a7bd-ccc4-4001-bd6a-7ed0b723439e\" class=\"colab-df-container\">\n",
              "    <div>\n",
              "<style scoped>\n",
              "    .dataframe tbody tr th:only-of-type {\n",
              "        vertical-align: middle;\n",
              "    }\n",
              "\n",
              "    .dataframe tbody tr th {\n",
              "        vertical-align: top;\n",
              "    }\n",
              "\n",
              "    .dataframe thead th {\n",
              "        text-align: right;\n",
              "    }\n",
              "</style>\n",
              "<table border=\"1\" class=\"dataframe\">\n",
              "  <thead>\n",
              "    <tr style=\"text-align: right;\">\n",
              "      <th></th>\n",
              "      <th>Unnamed: 0</th>\n",
              "      <th>name</th>\n",
              "      <th>year</th>\n",
              "      <th>selling_price</th>\n",
              "      <th>km_driven</th>\n",
              "      <th>fuel</th>\n",
              "      <th>seller_type</th>\n",
              "      <th>transmission</th>\n",
              "      <th>owner</th>\n",
              "    </tr>\n",
              "  </thead>\n",
              "  <tbody>\n",
              "    <tr>\n",
              "      <th>0</th>\n",
              "      <td>0</td>\n",
              "      <td>Maruti 800 AC</td>\n",
              "      <td>2007.0</td>\n",
              "      <td>60000</td>\n",
              "      <td>70000</td>\n",
              "      <td>Petrol</td>\n",
              "      <td>Individual</td>\n",
              "      <td>Manual</td>\n",
              "      <td>First Owner</td>\n",
              "    </tr>\n",
              "    <tr>\n",
              "      <th>1</th>\n",
              "      <td>1</td>\n",
              "      <td>Maruti Wagon R LXI Minor</td>\n",
              "      <td>2007.0</td>\n",
              "      <td>135000</td>\n",
              "      <td>50000</td>\n",
              "      <td>Petrol</td>\n",
              "      <td>Individual</td>\n",
              "      <td>Manual</td>\n",
              "      <td>First Owner</td>\n",
              "    </tr>\n",
              "    <tr>\n",
              "      <th>2</th>\n",
              "      <td>2</td>\n",
              "      <td>Hyundai Verna 1.6 SX</td>\n",
              "      <td>2012.0</td>\n",
              "      <td>600000</td>\n",
              "      <td>100000</td>\n",
              "      <td>Diesel</td>\n",
              "      <td>Individual</td>\n",
              "      <td>Manual</td>\n",
              "      <td>First Owner</td>\n",
              "    </tr>\n",
              "    <tr>\n",
              "      <th>3</th>\n",
              "      <td>3</td>\n",
              "      <td>Datsun RediGO T Option</td>\n",
              "      <td>2017.0</td>\n",
              "      <td>250000</td>\n",
              "      <td>46000</td>\n",
              "      <td>Petrol</td>\n",
              "      <td>Individual</td>\n",
              "      <td>Manual</td>\n",
              "      <td>First Owner</td>\n",
              "    </tr>\n",
              "    <tr>\n",
              "      <th>4</th>\n",
              "      <td>4</td>\n",
              "      <td>Honda Amaze VX i-DTEC</td>\n",
              "      <td>2014.0</td>\n",
              "      <td>450000</td>\n",
              "      <td>141000</td>\n",
              "      <td>Diesel</td>\n",
              "      <td>Individual</td>\n",
              "      <td>Manual</td>\n",
              "      <td>Second Owner</td>\n",
              "    </tr>\n",
              "    <tr>\n",
              "      <th>...</th>\n",
              "      <td>...</td>\n",
              "      <td>...</td>\n",
              "      <td>...</td>\n",
              "      <td>...</td>\n",
              "      <td>...</td>\n",
              "      <td>...</td>\n",
              "      <td>...</td>\n",
              "      <td>...</td>\n",
              "      <td>...</td>\n",
              "    </tr>\n",
              "    <tr>\n",
              "      <th>4335</th>\n",
              "      <td>4335</td>\n",
              "      <td>Hyundai i20 Magna 1.4 CRDi (Diesel)</td>\n",
              "      <td>2014.0</td>\n",
              "      <td>409999</td>\n",
              "      <td>80000</td>\n",
              "      <td>Diesel</td>\n",
              "      <td>Individual</td>\n",
              "      <td>Manual</td>\n",
              "      <td>Second Owner</td>\n",
              "    </tr>\n",
              "    <tr>\n",
              "      <th>4336</th>\n",
              "      <td>4336</td>\n",
              "      <td>Hyundai i20 Magna 1.4 CRDi</td>\n",
              "      <td>2014.0</td>\n",
              "      <td>409999</td>\n",
              "      <td>80000</td>\n",
              "      <td>Diesel</td>\n",
              "      <td>Individual</td>\n",
              "      <td>Manual</td>\n",
              "      <td>Second Owner</td>\n",
              "    </tr>\n",
              "    <tr>\n",
              "      <th>4337</th>\n",
              "      <td>4337</td>\n",
              "      <td>Maruti 800 AC BSIII</td>\n",
              "      <td>2009.0</td>\n",
              "      <td>110000</td>\n",
              "      <td>83000</td>\n",
              "      <td>Petrol</td>\n",
              "      <td>Individual</td>\n",
              "      <td>Manual</td>\n",
              "      <td>Second Owner</td>\n",
              "    </tr>\n",
              "    <tr>\n",
              "      <th>4338</th>\n",
              "      <td>4338</td>\n",
              "      <td>Hyundai Creta 1.6 CRDi SX Option</td>\n",
              "      <td>2016.0</td>\n",
              "      <td>865000</td>\n",
              "      <td>90000</td>\n",
              "      <td>Diesel</td>\n",
              "      <td>Individual</td>\n",
              "      <td>Manual</td>\n",
              "      <td>First Owner</td>\n",
              "    </tr>\n",
              "    <tr>\n",
              "      <th>4339</th>\n",
              "      <td>4339</td>\n",
              "      <td>Renault KWID RXT</td>\n",
              "      <td>2016.0</td>\n",
              "      <td>225000</td>\n",
              "      <td>40000</td>\n",
              "      <td>Petrol</td>\n",
              "      <td>Individual</td>\n",
              "      <td>Manual</td>\n",
              "      <td>First Owner</td>\n",
              "    </tr>\n",
              "  </tbody>\n",
              "</table>\n",
              "<p>4340 rows × 9 columns</p>\n",
              "</div>\n",
              "    <div class=\"colab-df-buttons\">\n",
              "\n",
              "  <div class=\"colab-df-container\">\n",
              "    <button class=\"colab-df-convert\" onclick=\"convertToInteractive('df-f1d4a7bd-ccc4-4001-bd6a-7ed0b723439e')\"\n",
              "            title=\"Convert this dataframe to an interactive table.\"\n",
              "            style=\"display:none;\">\n",
              "\n",
              "  <svg xmlns=\"http://www.w3.org/2000/svg\" height=\"24px\" viewBox=\"0 -960 960 960\">\n",
              "    <path d=\"M120-120v-720h720v720H120Zm60-500h600v-160H180v160Zm220 220h160v-160H400v160Zm0 220h160v-160H400v160ZM180-400h160v-160H180v160Zm440 0h160v-160H620v160ZM180-180h160v-160H180v160Zm440 0h160v-160H620v160Z\"/>\n",
              "  </svg>\n",
              "    </button>\n",
              "\n",
              "  <style>\n",
              "    .colab-df-container {\n",
              "      display:flex;\n",
              "      gap: 12px;\n",
              "    }\n",
              "\n",
              "    .colab-df-convert {\n",
              "      background-color: #E8F0FE;\n",
              "      border: none;\n",
              "      border-radius: 50%;\n",
              "      cursor: pointer;\n",
              "      display: none;\n",
              "      fill: #1967D2;\n",
              "      height: 32px;\n",
              "      padding: 0 0 0 0;\n",
              "      width: 32px;\n",
              "    }\n",
              "\n",
              "    .colab-df-convert:hover {\n",
              "      background-color: #E2EBFA;\n",
              "      box-shadow: 0px 1px 2px rgba(60, 64, 67, 0.3), 0px 1px 3px 1px rgba(60, 64, 67, 0.15);\n",
              "      fill: #174EA6;\n",
              "    }\n",
              "\n",
              "    .colab-df-buttons div {\n",
              "      margin-bottom: 4px;\n",
              "    }\n",
              "\n",
              "    [theme=dark] .colab-df-convert {\n",
              "      background-color: #3B4455;\n",
              "      fill: #D2E3FC;\n",
              "    }\n",
              "\n",
              "    [theme=dark] .colab-df-convert:hover {\n",
              "      background-color: #434B5C;\n",
              "      box-shadow: 0px 1px 3px 1px rgba(0, 0, 0, 0.15);\n",
              "      filter: drop-shadow(0px 1px 2px rgba(0, 0, 0, 0.3));\n",
              "      fill: #FFFFFF;\n",
              "    }\n",
              "  </style>\n",
              "\n",
              "    <script>\n",
              "      const buttonEl =\n",
              "        document.querySelector('#df-f1d4a7bd-ccc4-4001-bd6a-7ed0b723439e button.colab-df-convert');\n",
              "      buttonEl.style.display =\n",
              "        google.colab.kernel.accessAllowed ? 'block' : 'none';\n",
              "\n",
              "      async function convertToInteractive(key) {\n",
              "        const element = document.querySelector('#df-f1d4a7bd-ccc4-4001-bd6a-7ed0b723439e');\n",
              "        const dataTable =\n",
              "          await google.colab.kernel.invokeFunction('convertToInteractive',\n",
              "                                                    [key], {});\n",
              "        if (!dataTable) return;\n",
              "\n",
              "        const docLinkHtml = 'Like what you see? Visit the ' +\n",
              "          '<a target=\"_blank\" href=https://colab.research.google.com/notebooks/data_table.ipynb>data table notebook</a>'\n",
              "          + ' to learn more about interactive tables.';\n",
              "        element.innerHTML = '';\n",
              "        dataTable['output_type'] = 'display_data';\n",
              "        await google.colab.output.renderOutput(dataTable, element);\n",
              "        const docLink = document.createElement('div');\n",
              "        docLink.innerHTML = docLinkHtml;\n",
              "        element.appendChild(docLink);\n",
              "      }\n",
              "    </script>\n",
              "  </div>\n",
              "\n",
              "\n",
              "<div id=\"df-ce913241-e3bb-470b-9ec6-fd6207f71275\">\n",
              "  <button class=\"colab-df-quickchart\" onclick=\"quickchart('df-ce913241-e3bb-470b-9ec6-fd6207f71275')\"\n",
              "            title=\"Suggest charts\"\n",
              "            style=\"display:none;\">\n",
              "\n",
              "<svg xmlns=\"http://www.w3.org/2000/svg\" height=\"24px\"viewBox=\"0 0 24 24\"\n",
              "     width=\"24px\">\n",
              "    <g>\n",
              "        <path d=\"M19 3H5c-1.1 0-2 .9-2 2v14c0 1.1.9 2 2 2h14c1.1 0 2-.9 2-2V5c0-1.1-.9-2-2-2zM9 17H7v-7h2v7zm4 0h-2V7h2v10zm4 0h-2v-4h2v4z\"/>\n",
              "    </g>\n",
              "</svg>\n",
              "  </button>\n",
              "\n",
              "<style>\n",
              "  .colab-df-quickchart {\n",
              "      --bg-color: #E8F0FE;\n",
              "      --fill-color: #1967D2;\n",
              "      --hover-bg-color: #E2EBFA;\n",
              "      --hover-fill-color: #174EA6;\n",
              "      --disabled-fill-color: #AAA;\n",
              "      --disabled-bg-color: #DDD;\n",
              "  }\n",
              "\n",
              "  [theme=dark] .colab-df-quickchart {\n",
              "      --bg-color: #3B4455;\n",
              "      --fill-color: #D2E3FC;\n",
              "      --hover-bg-color: #434B5C;\n",
              "      --hover-fill-color: #FFFFFF;\n",
              "      --disabled-bg-color: #3B4455;\n",
              "      --disabled-fill-color: #666;\n",
              "  }\n",
              "\n",
              "  .colab-df-quickchart {\n",
              "    background-color: var(--bg-color);\n",
              "    border: none;\n",
              "    border-radius: 50%;\n",
              "    cursor: pointer;\n",
              "    display: none;\n",
              "    fill: var(--fill-color);\n",
              "    height: 32px;\n",
              "    padding: 0;\n",
              "    width: 32px;\n",
              "  }\n",
              "\n",
              "  .colab-df-quickchart:hover {\n",
              "    background-color: var(--hover-bg-color);\n",
              "    box-shadow: 0 1px 2px rgba(60, 64, 67, 0.3), 0 1px 3px 1px rgba(60, 64, 67, 0.15);\n",
              "    fill: var(--button-hover-fill-color);\n",
              "  }\n",
              "\n",
              "  .colab-df-quickchart-complete:disabled,\n",
              "  .colab-df-quickchart-complete:disabled:hover {\n",
              "    background-color: var(--disabled-bg-color);\n",
              "    fill: var(--disabled-fill-color);\n",
              "    box-shadow: none;\n",
              "  }\n",
              "\n",
              "  .colab-df-spinner {\n",
              "    border: 2px solid var(--fill-color);\n",
              "    border-color: transparent;\n",
              "    border-bottom-color: var(--fill-color);\n",
              "    animation:\n",
              "      spin 1s steps(1) infinite;\n",
              "  }\n",
              "\n",
              "  @keyframes spin {\n",
              "    0% {\n",
              "      border-color: transparent;\n",
              "      border-bottom-color: var(--fill-color);\n",
              "      border-left-color: var(--fill-color);\n",
              "    }\n",
              "    20% {\n",
              "      border-color: transparent;\n",
              "      border-left-color: var(--fill-color);\n",
              "      border-top-color: var(--fill-color);\n",
              "    }\n",
              "    30% {\n",
              "      border-color: transparent;\n",
              "      border-left-color: var(--fill-color);\n",
              "      border-top-color: var(--fill-color);\n",
              "      border-right-color: var(--fill-color);\n",
              "    }\n",
              "    40% {\n",
              "      border-color: transparent;\n",
              "      border-right-color: var(--fill-color);\n",
              "      border-top-color: var(--fill-color);\n",
              "    }\n",
              "    60% {\n",
              "      border-color: transparent;\n",
              "      border-right-color: var(--fill-color);\n",
              "    }\n",
              "    80% {\n",
              "      border-color: transparent;\n",
              "      border-right-color: var(--fill-color);\n",
              "      border-bottom-color: var(--fill-color);\n",
              "    }\n",
              "    90% {\n",
              "      border-color: transparent;\n",
              "      border-bottom-color: var(--fill-color);\n",
              "    }\n",
              "  }\n",
              "</style>\n",
              "\n",
              "  <script>\n",
              "    async function quickchart(key) {\n",
              "      const quickchartButtonEl =\n",
              "        document.querySelector('#' + key + ' button');\n",
              "      quickchartButtonEl.disabled = true;  // To prevent multiple clicks.\n",
              "      quickchartButtonEl.classList.add('colab-df-spinner');\n",
              "      try {\n",
              "        const charts = await google.colab.kernel.invokeFunction(\n",
              "            'suggestCharts', [key], {});\n",
              "      } catch (error) {\n",
              "        console.error('Error during call to suggestCharts:', error);\n",
              "      }\n",
              "      quickchartButtonEl.classList.remove('colab-df-spinner');\n",
              "      quickchartButtonEl.classList.add('colab-df-quickchart-complete');\n",
              "    }\n",
              "    (() => {\n",
              "      let quickchartButtonEl =\n",
              "        document.querySelector('#df-ce913241-e3bb-470b-9ec6-fd6207f71275 button');\n",
              "      quickchartButtonEl.style.display =\n",
              "        google.colab.kernel.accessAllowed ? 'block' : 'none';\n",
              "    })();\n",
              "  </script>\n",
              "</div>\n",
              "\n",
              "  <div id=\"id_2ce49f38-57f8-4af1-8915-6f4357333855\">\n",
              "    <style>\n",
              "      .colab-df-generate {\n",
              "        background-color: #E8F0FE;\n",
              "        border: none;\n",
              "        border-radius: 50%;\n",
              "        cursor: pointer;\n",
              "        display: none;\n",
              "        fill: #1967D2;\n",
              "        height: 32px;\n",
              "        padding: 0 0 0 0;\n",
              "        width: 32px;\n",
              "      }\n",
              "\n",
              "      .colab-df-generate:hover {\n",
              "        background-color: #E2EBFA;\n",
              "        box-shadow: 0px 1px 2px rgba(60, 64, 67, 0.3), 0px 1px 3px 1px rgba(60, 64, 67, 0.15);\n",
              "        fill: #174EA6;\n",
              "      }\n",
              "\n",
              "      [theme=dark] .colab-df-generate {\n",
              "        background-color: #3B4455;\n",
              "        fill: #D2E3FC;\n",
              "      }\n",
              "\n",
              "      [theme=dark] .colab-df-generate:hover {\n",
              "        background-color: #434B5C;\n",
              "        box-shadow: 0px 1px 3px 1px rgba(0, 0, 0, 0.15);\n",
              "        filter: drop-shadow(0px 1px 2px rgba(0, 0, 0, 0.3));\n",
              "        fill: #FFFFFF;\n",
              "      }\n",
              "    </style>\n",
              "    <button class=\"colab-df-generate\" onclick=\"generateWithVariable('df')\"\n",
              "            title=\"Generate code using this dataframe.\"\n",
              "            style=\"display:none;\">\n",
              "\n",
              "  <svg xmlns=\"http://www.w3.org/2000/svg\" height=\"24px\"viewBox=\"0 0 24 24\"\n",
              "       width=\"24px\">\n",
              "    <path d=\"M7,19H8.4L18.45,9,17,7.55,7,17.6ZM5,21V16.75L18.45,3.32a2,2,0,0,1,2.83,0l1.4,1.43a1.91,1.91,0,0,1,.58,1.4,1.91,1.91,0,0,1-.58,1.4L9.25,21ZM18.45,9,17,7.55Zm-12,3A5.31,5.31,0,0,0,4.9,8.1,5.31,5.31,0,0,0,1,6.5,5.31,5.31,0,0,0,4.9,4.9,5.31,5.31,0,0,0,6.5,1,5.31,5.31,0,0,0,8.1,4.9,5.31,5.31,0,0,0,12,6.5,5.46,5.46,0,0,0,6.5,12Z\"/>\n",
              "  </svg>\n",
              "    </button>\n",
              "    <script>\n",
              "      (() => {\n",
              "      const buttonEl =\n",
              "        document.querySelector('#id_2ce49f38-57f8-4af1-8915-6f4357333855 button.colab-df-generate');\n",
              "      buttonEl.style.display =\n",
              "        google.colab.kernel.accessAllowed ? 'block' : 'none';\n",
              "\n",
              "      buttonEl.onclick = () => {\n",
              "        google.colab.notebook.generateWithVariable('df');\n",
              "      }\n",
              "      })();\n",
              "    </script>\n",
              "  </div>\n",
              "\n",
              "    </div>\n",
              "  </div>\n"
            ],
            "application/vnd.google.colaboratory.intrinsic+json": {
              "type": "dataframe",
              "variable_name": "df",
              "summary": "{\n  \"name\": \"df\",\n  \"rows\": 4340,\n  \"fields\": [\n    {\n      \"column\": \"Unnamed: 0\",\n      \"properties\": {\n        \"dtype\": \"number\",\n        \"std\": 1252,\n        \"min\": 0,\n        \"max\": 4339,\n        \"num_unique_values\": 4340,\n        \"samples\": [\n          3978,\n          1448,\n          2664\n        ],\n        \"semantic_type\": \"\",\n        \"description\": \"\"\n      }\n    },\n    {\n      \"column\": \"name\",\n      \"properties\": {\n        \"dtype\": \"category\",\n        \"num_unique_values\": 1491,\n        \"samples\": [\n          \"Mahindra Thar DI 4X2\",\n          \"Maruti Swift VXI BSIII\",\n          \"Volkswagen Polo Petrol Comfortline 1.2L\"\n        ],\n        \"semantic_type\": \"\",\n        \"description\": \"\"\n      }\n    },\n    {\n      \"column\": \"year\",\n      \"properties\": {\n        \"dtype\": \"number\",\n        \"std\": 4.201613251802141,\n        \"min\": 1992.0,\n        \"max\": 2020.0,\n        \"num_unique_values\": 27,\n        \"samples\": [\n          2013.0,\n          2005.0,\n          2011.0\n        ],\n        \"semantic_type\": \"\",\n        \"description\": \"\"\n      }\n    },\n    {\n      \"column\": \"selling_price\",\n      \"properties\": {\n        \"dtype\": \"number\",\n        \"std\": 578548,\n        \"min\": 20000,\n        \"max\": 8900000,\n        \"num_unique_values\": 445,\n        \"samples\": [\n          346000,\n          198000,\n          385000\n        ],\n        \"semantic_type\": \"\",\n        \"description\": \"\"\n      }\n    },\n    {\n      \"column\": \"km_driven\",\n      \"properties\": {\n        \"dtype\": \"number\",\n        \"std\": 46644,\n        \"min\": 1,\n        \"max\": 806599,\n        \"num_unique_values\": 770,\n        \"samples\": [\n          60516,\n          63240,\n          54350\n        ],\n        \"semantic_type\": \"\",\n        \"description\": \"\"\n      }\n    },\n    {\n      \"column\": \"fuel\",\n      \"properties\": {\n        \"dtype\": \"category\",\n        \"num_unique_values\": 6,\n        \"samples\": [\n          \"Petrol\",\n          \"Diesel\",\n          \"Electric\"\n        ],\n        \"semantic_type\": \"\",\n        \"description\": \"\"\n      }\n    },\n    {\n      \"column\": \"seller_type\",\n      \"properties\": {\n        \"dtype\": \"category\",\n        \"num_unique_values\": 3,\n        \"samples\": [\n          \"Individual\",\n          \"Dealer\",\n          \"Trustmark Dealer\"\n        ],\n        \"semantic_type\": \"\",\n        \"description\": \"\"\n      }\n    },\n    {\n      \"column\": \"transmission\",\n      \"properties\": {\n        \"dtype\": \"category\",\n        \"num_unique_values\": 2,\n        \"samples\": [\n          \"Automatic\",\n          \"Manual\"\n        ],\n        \"semantic_type\": \"\",\n        \"description\": \"\"\n      }\n    },\n    {\n      \"column\": \"owner\",\n      \"properties\": {\n        \"dtype\": \"category\",\n        \"num_unique_values\": 5,\n        \"samples\": [\n          \"Second Owner\",\n          \"Test Drive Car\"\n        ],\n        \"semantic_type\": \"\",\n        \"description\": \"\"\n      }\n    }\n  ]\n}"
            }
          },
          "metadata": {},
          "execution_count": 8
        }
      ]
    },
    {
      "cell_type": "code",
      "source": [
        "# Count the number of null values in gender,rating,helpfulness and review\n",
        "print(\"Missing year values:\", len(df[df['year'].isnull()== True]))\n",
        "print(\"fuel is none:\", len(df[df['fuel']== 'none']))"
      ],
      "metadata": {
        "colab": {
          "base_uri": "https://localhost:8080/"
        },
        "id": "JsKCQyxtoAnL",
        "outputId": "0c621301-c729-4d3e-964e-d0d09e85e17b"
      },
      "id": "JsKCQyxtoAnL",
      "execution_count": 9,
      "outputs": [
        {
          "output_type": "stream",
          "name": "stdout",
          "text": [
            "Missing year values: 310\n",
            "fuel is none: 159\n"
          ]
        }
      ]
    },
    {
      "cell_type": "code",
      "source": [
        "remove_NaN_values = df.dropna(subset=['year'])\n",
        "clean_df1 = remove_NaN_values[remove_NaN_values['fuel']!='none']\n",
        "print(\"Length/Shape of clean dataframe\",clean_df1.shape)\n",
        "print(\"Number of rows\", clean_df1.shape[0])"
      ],
      "metadata": {
        "colab": {
          "base_uri": "https://localhost:8080/"
        },
        "id": "DWSShN5toQ_r",
        "outputId": "44a8bb29-c7de-48e8-da2d-d082942ac253"
      },
      "id": "DWSShN5toQ_r",
      "execution_count": 10,
      "outputs": [
        {
          "output_type": "stream",
          "name": "stdout",
          "text": [
            "Length/Shape of clean dataframe (3886, 9)\n",
            "Number of rows 3886\n"
          ]
        }
      ]
    },
    {
      "cell_type": "code",
      "source": [
        "#Length of data before and after\n",
        "print(\"Length of data before missing values removed\", df.shape[0])\n",
        "print(\"Length of data after missing values removed\", clean_df1.shape[0])"
      ],
      "metadata": {
        "colab": {
          "base_uri": "https://localhost:8080/"
        },
        "id": "x1uYF7pdocyr",
        "outputId": "459be1b6-4296-4f73-8297-150e8cc31f07"
      },
      "id": "x1uYF7pdocyr",
      "execution_count": 11,
      "outputs": [
        {
          "output_type": "stream",
          "name": "stdout",
          "text": [
            "Length of data before missing values removed 4340\n",
            "Length of data after missing values removed 3886\n"
          ]
        }
      ]
    },
    {
      "cell_type": "markdown",
      "id": "EJG9_LEmqndR",
      "metadata": {
        "id": "EJG9_LEmqndR"
      },
      "source": [
        "## Q2. Descriptive statistics\n",
        "\n",
        "With the cleaned data in Q1, please provide the data summarization as below:\n",
        "\n",
        "* Q2.1 total number of unique name, unique seller_type, unique transmission, and unique owner\n",
        "* Q2.2 descriptive statistics, including the total number, mean, std, min and max regarding all km_driven\n",
        "* Q2.3 descriptive statistics, including mean, std, max, and min of the number of selling_price grouped by different seller_type\n",
        "* Q2.4 descriptive statistics, including mean, std, max, min of the number of years that sold by each owner type\n"
      ]
    },
    {
      "cell_type": "code",
      "source": [
        "#Q2.1 Finding the number of unique values\n",
        "print(\"Number of unique name:\",len(clean_df1['name'].unique()))\n",
        "print(\"Number of unique seller_type:\",len(clean_df1['seller_type'].unique()))\n",
        "print(\"Number of unique transmission:\",len(clean_df1['transmission'].unique()))\n",
        "print(\"Number of unique owner:\",len(clean_df1['owner'].unique()))"
      ],
      "metadata": {
        "colab": {
          "base_uri": "https://localhost:8080/"
        },
        "id": "yqjARVykol5T",
        "outputId": "9acf0de5-160b-401b-ecb4-6d52ed000083"
      },
      "id": "yqjARVykol5T",
      "execution_count": 12,
      "outputs": [
        {
          "output_type": "stream",
          "name": "stdout",
          "text": [
            "Number of unique name: 1402\n",
            "Number of unique seller_type: 3\n",
            "Number of unique transmission: 2\n",
            "Number of unique owner: 5\n"
          ]
        }
      ]
    },
    {
      "cell_type": "code",
      "source": [
        "#Q2.2 Descriptive status\n",
        "print(clean_df1['km_driven'].describe())"
      ],
      "metadata": {
        "colab": {
          "base_uri": "https://localhost:8080/"
        },
        "id": "8kkngHT3o8XM",
        "outputId": "d3345c41-4be5-44d9-8d32-b48466ee3aee"
      },
      "id": "8kkngHT3o8XM",
      "execution_count": 13,
      "outputs": [
        {
          "output_type": "stream",
          "name": "stdout",
          "text": [
            "count      3886.000000\n",
            "mean      66313.279207\n",
            "std       46679.603916\n",
            "min           1.000000\n",
            "25%       35000.000000\n",
            "50%       60000.000000\n",
            "75%       90000.000000\n",
            "max      806599.000000\n",
            "Name: km_driven, dtype: float64\n"
          ]
        }
      ]
    },
    {
      "cell_type": "code",
      "source": [
        "#Q2.3 Descriptive status\n",
        "grouped_seller_type = clean_df1.groupby('seller_type')  # Grouping the data by seller_type\n",
        "print(grouped_seller_type['selling_price'].count())         # Printing the number of item count based on seller_type\n",
        "grouped_seller_type['selling_price'].count().describe()     # Summary of the data"
      ],
      "metadata": {
        "colab": {
          "base_uri": "https://localhost:8080/",
          "height": 424
        },
        "id": "1c4x6H8MpJOE",
        "outputId": "6ab8c8fb-0754-483e-953f-db8f58200fc3"
      },
      "id": "1c4x6H8MpJOE",
      "execution_count": 14,
      "outputs": [
        {
          "output_type": "stream",
          "name": "stdout",
          "text": [
            "seller_type\n",
            "Dealer               889\n",
            "Individual          2903\n",
            "Trustmark Dealer      94\n",
            "Name: selling_price, dtype: int64\n"
          ]
        },
        {
          "output_type": "execute_result",
          "data": {
            "text/plain": [
              "count       3.000000\n",
              "mean     1295.333333\n",
              "std      1447.912405\n",
              "min        94.000000\n",
              "25%       491.500000\n",
              "50%       889.000000\n",
              "75%      1896.000000\n",
              "max      2903.000000\n",
              "Name: selling_price, dtype: float64"
            ],
            "text/html": [
              "<div>\n",
              "<style scoped>\n",
              "    .dataframe tbody tr th:only-of-type {\n",
              "        vertical-align: middle;\n",
              "    }\n",
              "\n",
              "    .dataframe tbody tr th {\n",
              "        vertical-align: top;\n",
              "    }\n",
              "\n",
              "    .dataframe thead th {\n",
              "        text-align: right;\n",
              "    }\n",
              "</style>\n",
              "<table border=\"1\" class=\"dataframe\">\n",
              "  <thead>\n",
              "    <tr style=\"text-align: right;\">\n",
              "      <th></th>\n",
              "      <th>selling_price</th>\n",
              "    </tr>\n",
              "  </thead>\n",
              "  <tbody>\n",
              "    <tr>\n",
              "      <th>count</th>\n",
              "      <td>3.000000</td>\n",
              "    </tr>\n",
              "    <tr>\n",
              "      <th>mean</th>\n",
              "      <td>1295.333333</td>\n",
              "    </tr>\n",
              "    <tr>\n",
              "      <th>std</th>\n",
              "      <td>1447.912405</td>\n",
              "    </tr>\n",
              "    <tr>\n",
              "      <th>min</th>\n",
              "      <td>94.000000</td>\n",
              "    </tr>\n",
              "    <tr>\n",
              "      <th>25%</th>\n",
              "      <td>491.500000</td>\n",
              "    </tr>\n",
              "    <tr>\n",
              "      <th>50%</th>\n",
              "      <td>889.000000</td>\n",
              "    </tr>\n",
              "    <tr>\n",
              "      <th>75%</th>\n",
              "      <td>1896.000000</td>\n",
              "    </tr>\n",
              "    <tr>\n",
              "      <th>max</th>\n",
              "      <td>2903.000000</td>\n",
              "    </tr>\n",
              "  </tbody>\n",
              "</table>\n",
              "</div><br><label><b>dtype:</b> float64</label>"
            ]
          },
          "metadata": {},
          "execution_count": 14
        }
      ]
    },
    {
      "cell_type": "code",
      "source": [
        "#Q2.4 Descriptive status\n",
        "grouped_owner = clean_df1.groupby('owner')   # Grouping the data by item\n",
        "print(grouped_owner['year'].count())      # Printing the rating count based on item\n",
        "grouped_owner['year'].count().describe()  # Summary of the data"
      ],
      "metadata": {
        "colab": {
          "base_uri": "https://localhost:8080/",
          "height": 460
        },
        "id": "qDurU0C6pmme",
        "outputId": "d0bc520f-0b73-4770-e68f-87854217dfdf"
      },
      "id": "qDurU0C6pmme",
      "execution_count": 15,
      "outputs": [
        {
          "output_type": "stream",
          "name": "stdout",
          "text": [
            "owner\n",
            "First Owner             2532\n",
            "Fourth & Above Owner      67\n",
            "Second Owner            1000\n",
            "Test Drive Car            14\n",
            "Third Owner              273\n",
            "Name: year, dtype: int64\n"
          ]
        },
        {
          "output_type": "execute_result",
          "data": {
            "text/plain": [
              "count       5.000000\n",
              "mean      777.200000\n",
              "std      1057.123314\n",
              "min        14.000000\n",
              "25%        67.000000\n",
              "50%       273.000000\n",
              "75%      1000.000000\n",
              "max      2532.000000\n",
              "Name: year, dtype: float64"
            ],
            "text/html": [
              "<div>\n",
              "<style scoped>\n",
              "    .dataframe tbody tr th:only-of-type {\n",
              "        vertical-align: middle;\n",
              "    }\n",
              "\n",
              "    .dataframe tbody tr th {\n",
              "        vertical-align: top;\n",
              "    }\n",
              "\n",
              "    .dataframe thead th {\n",
              "        text-align: right;\n",
              "    }\n",
              "</style>\n",
              "<table border=\"1\" class=\"dataframe\">\n",
              "  <thead>\n",
              "    <tr style=\"text-align: right;\">\n",
              "      <th></th>\n",
              "      <th>year</th>\n",
              "    </tr>\n",
              "  </thead>\n",
              "  <tbody>\n",
              "    <tr>\n",
              "      <th>count</th>\n",
              "      <td>5.000000</td>\n",
              "    </tr>\n",
              "    <tr>\n",
              "      <th>mean</th>\n",
              "      <td>777.200000</td>\n",
              "    </tr>\n",
              "    <tr>\n",
              "      <th>std</th>\n",
              "      <td>1057.123314</td>\n",
              "    </tr>\n",
              "    <tr>\n",
              "      <th>min</th>\n",
              "      <td>14.000000</td>\n",
              "    </tr>\n",
              "    <tr>\n",
              "      <th>25%</th>\n",
              "      <td>67.000000</td>\n",
              "    </tr>\n",
              "    <tr>\n",
              "      <th>50%</th>\n",
              "      <td>273.000000</td>\n",
              "    </tr>\n",
              "    <tr>\n",
              "      <th>75%</th>\n",
              "      <td>1000.000000</td>\n",
              "    </tr>\n",
              "    <tr>\n",
              "      <th>max</th>\n",
              "      <td>2532.000000</td>\n",
              "    </tr>\n",
              "  </tbody>\n",
              "</table>\n",
              "</div><br><label><b>dtype:</b> float64</label>"
            ]
          },
          "metadata": {},
          "execution_count": 15
        }
      ]
    },
    {
      "cell_type": "markdown",
      "id": "PISggxe5qndR",
      "metadata": {
        "id": "PISggxe5qndR"
      },
      "source": [
        "## Q3. Plotting and Analysis\n",
        "\n",
        "Please try to explore the correlation between fuel/year/seller_type/transmission/owner and selling_price; for instance, do First Owner cars tend to sell higher prices than second owner cars? Hint: you may use the boxplot function to plot figures for comparison\n",
        "    \n",
        "You may need to select the most suitable graphic forms for ease of presentation. Most importantly, for each figure or subfigure, please summarise ___what each plot shows___ (i.e. observations and explanations). Finally, you are required to provide an overall summary of your findings from the plots you generated."
      ]
    },
    {
      "cell_type": "code",
      "source": [
        "# Correlation between fuel and selling price\n",
        "plt.figure(figsize=(10, 6))\n",
        "plt.title('Selling Price Distribution by Fuel Type')\n",
        "sns.boxplot(x='fuel', y='selling_price', data=clean_df1)\n",
        "plt.xlabel('Fuel Type')\n",
        "plt.ylabel('Selling Price')\n",
        "plt.xticks(rotation=45)\n",
        "plt.show()\n",
        "print(\"This plot shows the distribution of selling prices for different fuel types. It helps us understand if certain fuel types have a significant impact on the selling price.\")\n"
      ],
      "metadata": {
        "colab": {
          "base_uri": "https://localhost:8080/",
          "height": 634
        },
        "id": "S6Ono7ucqIjv",
        "outputId": "c43f953a-ac9a-4879-a6d4-1f46c86fde94",
        "collapsed": true
      },
      "id": "S6Ono7ucqIjv",
      "execution_count": 24,
      "outputs": [
        {
          "output_type": "display_data",
          "data": {
            "text/plain": [
              "<Figure size 1000x600 with 1 Axes>"
            ],
            "image/png": "[encoded data removed]"
          },
          "metadata": {}
        },
        {
          "output_type": "stream",
          "name": "stdout",
          "text": [
            "This plot shows the distribution of selling prices for different fuel types. It helps us understand if certain fuel types have a significant impact on the selling price.\n"
          ]
        }
      ]
    },
    {
      "cell_type": "code",
      "source": [
        "# Correlation between year and selling price\n",
        "plt.figure(figsize=(10, 6))\n",
        "plt.title('Selling Price Trend over the Years')\n",
        "sns.scatterplot(x='year', y='selling_price', data=clean_df1)\n",
        "plt.xlabel('Year')\n",
        "plt.ylabel('Selling Price')\n",
        "plt.show()\n",
        "print(\"This scatter plot shows how the selling price changes over the years. It helps us identify any trends or patterns in the pricing based on the year of the car.\")"
      ],
      "metadata": {
        "colab": {
          "base_uri": "https://localhost:8080/",
          "height": 582
        },
        "id": "nUGlgE8Kudr3",
        "outputId": "1a50ae3a-4b12-4523-8806-9f2f78ace37e"
      },
      "id": "nUGlgE8Kudr3",
      "execution_count": 23,
      "outputs": [
        {
          "output_type": "display_data",
          "data": {
            "text/plain": [
              "<Figure size 1000x600 with 1 Axes>"
            ],
            "image/png": "[encoded data removed]"
          },
          "metadata": {}
        },
        {
          "output_type": "stream",
          "name": "stdout",
          "text": [
            "This scatter plot shows how the selling price changes over the years. It helps us identify any trends or patterns in the pricing based on the year of the car.\n"
          ]
        }
      ]
    },
    {
      "cell_type": "code",
      "source": [
        "# Correlation between seller type and selling price\n",
        "plt.figure(figsize=(10, 6))\n",
        "plt.title('Selling Price Distribution by Seller Type')\n",
        "sns.boxplot(x='seller_type', y='selling_price', data=clean_df1)\n",
        "plt.xlabel('Seller Type')\n",
        "plt.ylabel('Selling Price')\n",
        "plt.show()\n",
        "print(\"This plot compares the selling prices of cars sold by individual sellers and dealers. It helps us understand if the seller type influences the price.\")"
      ],
      "metadata": {
        "colab": {
          "base_uri": "https://localhost:8080/",
          "height": 582
        },
        "id": "optXKyVBud1y",
        "outputId": "d1e12600-15d8-4068-ad33-a20cd9922676"
      },
      "id": "optXKyVBud1y",
      "execution_count": 25,
      "outputs": [
        {
          "output_type": "display_data",
          "data": {
            "text/plain": [
              "<Figure size 1000x600 with 1 Axes>"
            ],
            "image/png": "[encoded data removed]"
          },
          "metadata": {}
        },
        {
          "output_type": "stream",
          "name": "stdout",
          "text": [
            "This plot compares the selling prices of cars sold by individual sellers and dealers. It helps us understand if the seller type influences the price.\n"
          ]
        }
      ]
    },
    {
      "cell_type": "code",
      "source": [
        "# Correlation between transmission and selling price\n",
        "plt.figure(figsize=(10, 6))\n",
        "plt.title('Selling Price Distribution by Transmission')\n",
        "sns.boxplot(x='transmission', y='selling_price', data=clean_df1)\n",
        "plt.xlabel('Transmission')\n",
        "plt.ylabel('Selling Price')\n",
        "plt.show()\n",
        "print(\"This plot shows the difference in selling prices between automatic and manual transmission cars. It helps us understand if the transmission type affects the price.\")"
      ],
      "metadata": {
        "colab": {
          "base_uri": "https://localhost:8080/",
          "height": 602
        },
        "id": "VYJT3RCYud_V",
        "outputId": "88ff190e-0cbf-45d2-eb36-347d786ddca8"
      },
      "id": "VYJT3RCYud_V",
      "execution_count": 26,
      "outputs": [
        {
          "output_type": "display_data",
          "data": {
            "text/plain": [
              "<Figure size 1000x600 with 1 Axes>"
            ],
            "image/png": "[encoded data removed]"
          },
          "metadata": {}
        },
        {
          "output_type": "stream",
          "name": "stdout",
          "text": [
            "This plot shows the difference in selling prices between automatic and manual transmission cars. It helps us understand if the transmission type affects the price.\n"
          ]
        }
      ]
    },
    {
      "cell_type": "code",
      "source": [
        "# Correlation between owner and selling price\n",
        "plt.figure(figsize=(10, 6))\n",
        "plt.title('Selling Price Distribution by Owner')\n",
        "sns.boxplot(x='owner', y='selling_price', data=clean_df1, order=['First Owner', 'Second Owner', 'Third Owner', 'Fourth & Above Owner'])\n",
        "plt.xlabel('Owner')\n",
        "plt.ylabel('Selling Price')\n",
        "plt.show()\n",
        "print(\"This plot shows how the number of previous owners impacts the selling price. It helps us understand if cars with fewer previous owners tend to sell at higher prices.\")"
      ],
      "metadata": {
        "colab": {
          "base_uri": "https://localhost:8080/",
          "height": 602
        },
        "id": "VhsWjfvSueIF",
        "outputId": "389d6b07-5eb2-4cba-a5d8-4a3bc5058d97"
      },
      "id": "VhsWjfvSueIF",
      "execution_count": 27,
      "outputs": [
        {
          "output_type": "display_data",
          "data": {
            "text/plain": [
              "<Figure size 1000x600 with 1 Axes>"
            ],
            "image/png": "[encoded data removed]"
          },
          "metadata": {}
        },
        {
          "output_type": "stream",
          "name": "stdout",
          "text": [
            "This plot shows how the number of previous owners impacts the selling price. It helps us understand if cars with fewer previous owners tend to sell at higher prices.\n"
          ]
        }
      ]
    },
    {
      "cell_type": "markdown",
      "id": "TxD3SLxRqndR",
      "metadata": {
        "id": "TxD3SLxRqndR"
      },
      "source": [
        "## Q4. Detect and remove outliers\n",
        "\n",
        "We define car sale records WITHOUT following ANY of the below three rules as outliers:\n",
        "\n",
        "1. owner to be first, second and third owner only\n",
        "2. Fuel to be Diesel or Petrol only\n",
        "3. Seller_type to be dealer or individual only\n",
        "\n",
        "Please remove the corresponding records in the csv file that is not qualified with the rules. After that, __print the length of the data__."
      ]
    },
    {
      "cell_type": "code",
      "source": [
        "data = pd.read_csv(file_path)\n",
        "\n",
        "# Define the criteria for filtering\n",
        "owner_criteria = ['First Owner', 'Second Owner', 'Third Owner']\n",
        "fuel_criteria = ['Diesel', 'Petrol']\n",
        "seller_type_criteria = ['Dealer', 'Individual']\n",
        "\n",
        "# Filter the dataset\n",
        "filtered_data = data[\n",
        "    (data['owner'].isin(owner_criteria)) &\n",
        "    (data['fuel'].isin(fuel_criteria)) &\n",
        "    (data['seller_type'].isin(seller_type_criteria))\n",
        "]\n",
        "\n",
        "# Print the length of the filtered data\n",
        "print(len(filtered_data))"
      ],
      "metadata": {
        "colab": {
          "base_uri": "https://localhost:8080/"
        },
        "id": "jTaYBxkzkShY",
        "outputId": "176bf2f7-97ab-41c5-cb6d-32260f261827"
      },
      "id": "jTaYBxkzkShY",
      "execution_count": 22,
      "outputs": [
        {
          "output_type": "stream",
          "name": "stdout",
          "text": [
            "3929\n"
          ]
        }
      ]
    },
    {
      "cell_type": "code",
      "source": [],
      "metadata": {
        "id": "TmI7GW4lnMDZ"
      },
      "id": "TmI7GW4lnMDZ",
      "execution_count": null,
      "outputs": []
    }
  ],
  "metadata": {
    "colab": {
      "provenance": [],
      "include_colab_link": true
    },
    "kernelspec": {
      "display_name": "Python 3 (ipykernel)",
      "language": "python",
      "name": "python3"
    },
    "language_info": {
      "codemirror_mode": {
        "name": "ipython",
        "version": 3
      },
      "file_extension": ".py",
      "mimetype": "text/x-python",
      "name": "python",
      "nbconvert_exporter": "python",
      "pygments_lexer": "ipython3",
      "version": "3.11.5"
    }
  },
  "nbformat": 4,
  "nbformat_minor": 5
}